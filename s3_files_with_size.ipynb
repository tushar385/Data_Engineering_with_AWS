{
 "cells": [
  {
   "cell_type": "code",
   "execution_count": null,
   "metadata": {},
   "outputs": [],
   "source": [
    "import boto3\n",
    "import math\n",
    "\n",
    "# Create an S3 client\n",
    "s3 = boto3.client('s3')\n",
    "\n",
    "# Specify the bucket name and folder path\n",
    "bucket_name = 'data-bucket'\n",
    "folder_path = ''\n",
    "\n",
    "# List all objects in the bucket with the specified folder path\n",
    "response = s3.list_objects(Bucket=bucket_name, Prefix=folder_path)\n",
    "\n",
    "# Iterate through each object\n",
    "for obj in response['Contents']:\n",
    "    # Get the object key (file name)\n",
    "    file_name = obj['Key']\n",
    "    \n",
    "    # Check if the file is a CSV\n",
    "    if file_name.endswith(''):\n",
    "        # Get the size of the CSV file in bytes\n",
    "        file_size_bytes = obj['Size']\n",
    "        \n",
    "        # Convert the file size to megabytes (MB) and gigabytes (GB)\n",
    "\n",
    "        file_size_gb = file_size_bytes / (1024 * 1024 * 1024)\n",
    "        \n",
    "        # Build the S3 URI\n",
    "        s3_uri = file_name\n",
    "        \n",
    "        # Load the CSV file using the S3 URI\n",
    "        # Replace the code below with your logic to process the CSV file\n",
    "        print(f\"Loading CSV from S3 URI: {s3_uri} ##({file_size_gb:.2f} GB)\")\n",
    "\n",
    "        # Your code here to load and process the CSV file using the s3_uri\n"
   ]
  }
 ],
 "metadata": {
  "language_info": {
   "name": "python"
  }
 },
 "nbformat": 4,
 "nbformat_minor": 2
}
