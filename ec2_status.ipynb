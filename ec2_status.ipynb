{
 "cells": [
  {
   "cell_type": "code",
   "execution_count": null,
   "metadata": {},
   "outputs": [],
   "source": [
    "import boto3\n",
    "\n",
    "# Set your AWS region\n",
    "AWS_REGION = 'us-east-1'\n",
    "\n",
    "# Create an EC2 client\n",
    "ec2_client = boto3.client('ec2', region_name=AWS_REGION)\n",
    "\n",
    "# Get a list of all EC2 instances\n",
    "response = ec2_client.describe_instances()\n",
    "instances = [instance for reservation in response['Reservations'] for instance in reservation['Instances']]\n",
    "\n",
    "# Print instance details\n",
    "for instance in instances:\n",
    "    instance_id = instance['InstanceId']\n",
    "    instance_name = instance['Tags']\n",
    "    instance_state = instance['State']['Name']\n",
    "    instance_type = instance['InstanceType']\n",
    "    instance_public_ip = instance.get('PublicIpAddress', 'N/A')\n",
    "    instance_private_ip = instance.get('PrivateIpAddress', 'N/A')\n",
    "\n",
    "    print(f\"Instance ID: {instance_id}\")\n",
    "    print(f\"Instance ID: {instance_name}\")\n",
    "    print(f\"State: {instance_state}\")\n",
    "    print(f\"Instance Type: {instance_type}\")\n",
    "    print(f\"Public IP: {instance_public_ip}\")\n",
    "    print(f\"Private IP: {instance_private_ip}\")\n",
    "    print(\"-------------------------------\")\n"
   ]
  }
 ],
 "metadata": {
  "language_info": {
   "name": "python"
  }
 },
 "nbformat": 4,
 "nbformat_minor": 2
}
