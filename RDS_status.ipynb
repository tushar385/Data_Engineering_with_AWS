{
 "cells": [
  {
   "cell_type": "code",
   "execution_count": null,
   "metadata": {},
   "outputs": [],
   "source": [
    "import boto3\n",
    "\n",
    "# Set your AWS region\n",
    "AWS_REGION = 'us-east-1'\n",
    "\n",
    "# Create an RDS client\n",
    "rds_client = boto3.client('rds', region_name=AWS_REGION)\n",
    "\n",
    "# Get a list of all RDS instances\n",
    "response = rds_client.describe_db_instances()\n",
    "instances = response['DBInstances']\n",
    "\n",
    "# Print instance details\n",
    "for instance in instances:\n",
    "    instance_id = instance['DBInstanceIdentifier']\n",
    "    instance_status = instance['DBInstanceStatus']\n",
    "    instance_engine = instance['Engine']\n",
    "    instance_class = instance['DBInstanceClass']\n",
    "    instance_endpoint = instance['Endpoint']['Address']\n",
    "    instance_port = instance['Endpoint']['Port']\n",
    "    instance_engine_version = instance['EngineVersion']\n",
    "\n",
    "    print(f\"Instance ID: {instance_id}\")\n",
    "    print(f\"Status: {instance_status}\")\n",
    "    print(f\"Engine: {instance_engine}\")\n",
    "    print(f\"Instance Class: {instance_class}\")\n",
    "    print(f\"Endpoint: {instance_endpoint}:{instance_port}\")\n",
    "    print(f\"Engine Version: {instance_engine_version}\")\n",
    "    print(\"-------------------------------\")\n"
   ]
  }
 ],
 "metadata": {
  "language_info": {
   "name": "python"
  }
 },
 "nbformat": 4,
 "nbformat_minor": 2
}
